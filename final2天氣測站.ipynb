{
 "cells": [
  {
   "cell_type": "code",
   "execution_count": 2,
   "id": "64195302",
   "metadata": {},
   "outputs": [
    {
     "name": "stdout",
     "output_type": "stream",
     "text": [
      "\n"
     ]
    },
    {
     "name": "stderr",
     "output_type": "stream",
     "text": [
      "[WDM] - ====== WebDriver manager ======\n",
      "[WDM] - Current google-chrome version is 103.0.5060\n",
      "[WDM] - Get LATEST chromedriver version for 103.0.5060 google-chrome\n",
      "[WDM] - Driver [C:\\Users\\Amy Wang\\.wdm\\drivers\\chromedriver\\win32\\103.0.5060.134\\chromedriver.exe] found in cache\n"
     ]
    }
   ],
   "source": [
    "'''\n",
    "匯入套件\n",
    "'''\n",
    "# 操作 browser 的 API\n",
    "from selenium import webdriver\n",
    "from selenium import webdriver\n",
    "from selenium.webdriver.chrome.service import Service\n",
    "from webdriver_manager.chrome import ChromeDriverManager\n",
    "\n",
    "# 處理逾時例外的工具\n",
    "from selenium.common.exceptions import TimeoutException\n",
    "\n",
    "# 面對動態網頁，等待某個元素出現的工具，通常與 exptected_conditions 搭配\n",
    "from selenium.webdriver.support.ui import WebDriverWait\n",
    "\n",
    "# 搭配 WebDriverWait 使用，對元素狀態的一種期待條件，若條件發生，則等待結束，往下一行執行\n",
    "from selenium.webdriver.support import expected_conditions as EC\n",
    "\n",
    "# 期待元素出現要透過什麼方式指定，通常與 EC、WebDriverWait 一起使用\n",
    "from selenium.webdriver.common.by import By\n",
    "\n",
    "# 取得系統時間的工具\n",
    "from datetime import datetime\n",
    "\n",
    "# 強制等待 (執行期間休息一下)\n",
    "from time import sleep\n",
    "\n",
    "# 整理 json 使用的工具\n",
    "import json\n",
    "\n",
    "# 執行 command 的時候用的\n",
    "import os\n",
    "\n",
    "# 處理下拉式選單的工具\n",
    "from selenium.webdriver.support.ui import Select\n",
    "\n",
    "'''\n",
    "[1] Selenium with Python 中文翻譯文檔\n",
    "參考網頁：https://selenium-python-zh.readthedocs.io/en/latest/index.html\n",
    "[2] selenium 啓動 Chrome 的進階配置參數\n",
    "參考網址：https://stackoverflow.max-everyday.com/2019/12/selenium-chrome-options/\n",
    "[3] Mouse Hover Action in Selenium\n",
    "參考網址：https://www.toolsqa.com/selenium-webdriver/mouse-hover-action/\n",
    "[4] How to select a drop-down menu value with Selenium using Python?\n",
    "參考網址：https://stackoverflow.com/questions/7867537/how-to-select-a-drop-down-menu-value-with-selenium-using-python\n",
    "'''\n",
    "\n",
    "# 啟動瀏覽器工具的選項\n",
    "my_options = webdriver.ChromeOptions()\n",
    "# my_options.add_argument(\"--headless\")                #不開啟實體瀏覽器背景執行\n",
    "my_options.add_argument(\"--start-maximized\")         #最大化視窗\n",
    "my_options.add_argument(\"--incognito\")               #開啟無痕模式\n",
    "my_options.add_argument(\"--disable-popup-blocking\") #禁用彈出攔截\n",
    "my_options.add_argument(\"--disable-notifications\")  #取消通知\n",
    "\n",
    "\n",
    "# 建立儲存圖片的資料夾，不存在就新增\n",
    "#folderPath = 'rain'\n",
    "#if not os.path.exists(folderPath):\n",
    "    #os.makedirs(folderPath)\n",
    "\n",
    "# 下載路徑 (請先在專案目錄下，建立一個新資料夾 files)\n",
    "#download_path = os.path.join(os.getcwd(), 'rains')\n",
    "\n",
    "\n",
    "# 使用 Chrome 的 WebDriver\n",
    "driver = webdriver.Chrome(\n",
    "    options = my_options,\n",
    "    service = Service(ChromeDriverManager().install())\n",
    ")\n",
    "\n",
    "# 走訪網址\n",
    "url = 'https://e-service.cwb.gov.tw/HistoryDataQuery/'\n"
   ]
  },
  {
   "cell_type": "code",
   "execution_count": 3,
   "id": "1ed3f2e1",
   "metadata": {},
   "outputs": [],
   "source": [
    "# 更改日期\n",
    "i = \"1\""
   ]
  },
  {
   "cell_type": "code",
   "execution_count": 4,
   "id": "bc05db7c",
   "metadata": {},
   "outputs": [],
   "source": [
    "# 走訪頁面\n",
    "def visit():   \n",
    "    driver.get(url);\n",
    "    q=len(driver.find_elements(By.CSS_SELECTOR, \"select#stationCounty option\"))\n",
    "    sleep(3)"
   ]
  },
  {
   "cell_type": "code",
   "execution_count": null,
   "id": "edaab088",
   "metadata": {},
   "outputs": [],
   "source": [
    "def ck():\n",
    "    driver.find_element(By.CSS_SELECTOR, \"select#stationCounty\").click()\n",
    "    t = Select(driver.find_element(By.CSS_SELECTOR, 'select#datatype'))\n",
    "    t.select_by_visible_text('月報表 (monthly data)')\n",
    "    sleep(1)\n",
    "    driver.find_element(By.CSS_SELECTOR, \"img.ui-datepicker-trigger\").click()\n",
    "    yy = Select(driver.find_element(By.CSS_SELECTOR, 'select[data-handler=\"selectYear\"]'))\n",
    "    yy.select_by_visible_text('2022')\n",
    "    sleep(1)\n",
    "    mm = Select(driver.find_element(By.CSS_SELECTOR, 'select[data-handler=\"selectMonth\"]'))\n",
    "    mm.select_by_value(f'{i}')\n",
    "    sleep(1)\n",
    "    driver.find_element(By.CSS_SELECTOR, \"img#doquery\").click() #第一個頁查詢\n",
    "    sleep(1)\n",
    "    windows=driver.window_handles  #獲得當前瀏覽器所有視窗  #driver 開啟的瀏覽器Chrome\n",
    "    sleep(2)\n",
    "    driver.switch_to.window(windows[1])  \n",
    "    #windows為一個陣列：handles = [視窗1，視窗2，...]\n",
    "    #driver.switch_to.window(windows[-1])切換到最新開啟視窗\n",
    "    #driver.switch_to_window(windows[0])切換回最初開啟的視窗 \n",
    "    u=driver.current_url  #current_url獲取當前頁面的當前URL。\n",
    "    print(u)"
   ]
  },
  {
   "cell_type": "code",
   "execution_count": null,
   "id": "954d5b0f",
   "metadata": {},
   "outputs": [],
   "source": [
    "def down():\n",
    "\n",
    "    u=driver.current_url\n",
    "    driver.get(u)\n",
    "    w=len(driver.find_elements(By.CSS_SELECTOR, \"select#selectStno option\"))\n",
    "    \n",
    "    for y in range(w):\n",
    "        driver.find_element(By.CSS_SELECTOR, \"a#downloadCSV\").click()\n",
    "        driver.find_element(By.CSS_SELECTOR, \"select#selectStno\").click()\n",
    "        driver.find_elements(By.CSS_SELECTOR, \"select#selectStno option\")[y].click()\n",
    "    driver.close()\n",
    "    windows=driver.window_handles\n",
    "    driver.switch_to.window(windows[0])"
   ]
  },
  {
   "cell_type": "code",
   "execution_count": null,
   "id": "0cb33fdf",
   "metadata": {},
   "outputs": [],
   "source": [
    "# 主程式\n",
    "if __name__==\"__main__\":\n",
    "    visit()\n",
    "    ck()\n",
    "    down()\n",
    "    ck()\n",
    "\n",
    "    "
   ]
  }
 ],
 "metadata": {
  "kernelspec": {
   "display_name": "Python 3 (ipykernel)",
   "language": "python",
   "name": "python3"
  },
  "language_info": {
   "codemirror_mode": {
    "name": "ipython",
    "version": 3
   },
   "file_extension": ".py",
   "mimetype": "text/x-python",
   "name": "python",
   "nbconvert_exporter": "python",
   "pygments_lexer": "ipython3",
   "version": "3.10.5"
  }
 },
 "nbformat": 4,
 "nbformat_minor": 5
}
