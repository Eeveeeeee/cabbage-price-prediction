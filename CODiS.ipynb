{
 "cells": [
  {
   "cell_type": "code",
   "execution_count": 1,
   "id": "3559cd0e",
   "metadata": {},
   "outputs": [],
   "source": [
    "'''\n",
    "匯入套件\n",
    "'''\n",
    "# 操作 browser 的 API\n",
    "from selenium import webdriver\n",
    "from selenium.webdriver.chrome.service import Service\n",
    "from webdriver_manager.chrome import ChromeDriverManager\n",
    "\n",
    "# 處理逾時例外的工具\n",
    "from selenium.common.exceptions import TimeoutException\n",
    "\n",
    "# 面對動態網頁，等待某個元素出現的工具，通常與 exptected_conditions 搭配\n",
    "from selenium.webdriver.support.ui import WebDriverWait\n",
    "\n",
    "# 搭配 WebDriverWait 使用，對元素狀態的一種期待條件，若條件發生，則等待結束，往下一行執行\n",
    "from selenium.webdriver.support import expected_conditions as EC\n",
    "\n",
    "# 期待元素出現要透過什麼方式指定，通常與 EC、WebDriverWait 一起使用\n",
    "from selenium.webdriver.common.by import By\n",
    "\n",
    "# 取得系統時間的工具\n",
    "from datetime import datetime\n",
    "\n",
    "# 強制等待 (執行期間休息一下)\n",
    "from time import sleep\n",
    "\n",
    "# 整理 json 使用的工具\n",
    "import json\n",
    "\n",
    "# 執行 command 的時候用的\n",
    "import os\n",
    "\n",
    "# 處理下拉式選單的工具\n",
    "from selenium.webdriver.support.ui import Select\n",
    "\n",
    "'''\n",
    "[1] Selenium with Python 中文翻譯文檔\n",
    "參考網頁：https://selenium-python-zh.readthedocs.io/en/latest/index.html\n",
    "[2] selenium 啓動 Chrome 的進階配置參數\n",
    "參考網址：https://stackoverflow.max-everyday.com/2019/12/selenium-chrome-options/\n",
    "[3] Mouse Hover Action in Selenium\n",
    "參考網址：https://www.toolsqa.com/selenium-webdriver/mouse-hover-action/\n",
    "[4] How to select a drop-down menu value with Selenium using Python?\n",
    "參考網址：https://stackoverflow.com/questions/7867537/how-to-select-a-drop-down-menu-value-with-selenium-using-python\n",
    "'''\n",
    "\n",
    "# 啟動瀏覽器工具的選項\n",
    "my_options = webdriver.ChromeOptions()\n",
    "# my_options.add_argument(\"--headless\")                #不開啟實體瀏覽器背景執行\n",
    "my_options.add_argument(\"--start-maximized\")         #最大化視窗\n",
    "my_options.add_argument(\"--incognito\")               #開啟無痕模式\n",
    "my_options.add_argument(\"--disable-popup-blocking\") #禁用彈出攔截\n",
    "my_options.add_argument(\"--disable-notifications\")  #取消通知\n"
   ]
  },
  {
   "cell_type": "code",
   "execution_count": 2,
   "id": "776cc1b8",
   "metadata": {},
   "outputs": [
    {
     "name": "stdout",
     "output_type": "stream",
     "text": [
      "\n"
     ]
    },
    {
     "name": "stderr",
     "output_type": "stream",
     "text": [
      "[WDM] - ====== WebDriver manager ======\n",
      "[WDM] - Current google-chrome version is 105.0.5195\n",
      "[WDM] - Get LATEST chromedriver version for 105.0.5195 google-chrome\n",
      "[WDM] - Driver [C:\\Users\\Amy Wang\\.wdm\\drivers\\chromedriver\\win32\\105.0.5195.52\\chromedriver.exe] found in cache\n"
     ]
    }
   ],
   "source": [
    "# 使用 Chrome 的 WebDriver\n",
    "driver = webdriver.Chrome(\n",
    "    options = my_options,\n",
    "    service = Service(ChromeDriverManager().install())\n",
    ")"
   ]
  },
  {
   "cell_type": "code",
   "execution_count": 3,
   "id": "9dbfda0b",
   "metadata": {},
   "outputs": [],
   "source": [
    "# 走訪網址\n",
    "url = 'https://e-service.cwb.gov.tw/HistoryDataQuery/'\n",
    "\n",
    "# 縣市及月份\n",
    "import numpy as np\n",
    "dates = np.arange(12)\n",
    "counties = np.arange(22)\n",
    "    \n",
    "def visit(): \n",
    "    url = 'https://e-service.cwb.gov.tw/HistoryDataQuery/'\n",
    "    driver.get(url);\n",
    "    sleep(2)    \n",
    "    for j in counties :\n",
    "        # 選擇縣市\n",
    "        c = Select(driver.find_element(By.CSS_SELECTOR, \"select#stationCounty\"))\n",
    "        c.select_by_index(j)\n",
    "        sleep(1)\n",
    "        for i in dates :\n",
    "            # 選擇'月報表'\n",
    "            t = Select(driver.find_element(By.CSS_SELECTOR, 'select#datatype'))\n",
    "            t.select_by_visible_text('月報表 (monthly data)')\n",
    "            sleep(1)\n",
    "            # 點開月曆\n",
    "            driver.find_element(By.CSS_SELECTOR, \"img.ui-datepicker-trigger\").click()\n",
    "            sleep(0.5)\n",
    "            # 選擇年份\n",
    "            yy = Select(driver.find_element(By.CSS_SELECTOR, 'select[data-handler=\"selectYear\"]'))\n",
    "            yy.select_by_visible_text('2021')\n",
    "            sleep(1)\n",
    "            # 選擇月份\n",
    "            mm = Select(driver.find_element(By.CSS_SELECTOR, 'select[data-handler=\"selectMonth\"]'))\n",
    "            sleep(0.1)\n",
    "            mm.select_by_value(f'{i}')\n",
    "            sleep(0.1)\n",
    "            # 送出查詢\n",
    "            driver.find_element(By.CSS_SELECTOR, \"img#doquery\").click()\n",
    "            sleep(0.3)\n",
    "            windows=driver.window_handles\n",
    "            # 切到新開的查詢分頁\n",
    "            driver.switch_to.window(windows[1])\n",
    "            u=driver.current_url\n",
    "            driver.get(u)\n",
    "            #測站下拉式選單長度\n",
    "            w=len(driver.find_elements(By.CSS_SELECTOR, \"select#selectStno option\"))\n",
    "            sleep(0.3)\n",
    "            for y in range(w):\n",
    "                # 切換該區觀測站\n",
    "                driver.find_element(By.CSS_SELECTOR, \"select#selectStno\").click()\n",
    "                sleep(0.1)\n",
    "                driver.find_elements(By.CSS_SELECTOR, \"select#selectStno option\")[y].click()\n",
    "                sleep(0.1)\n",
    "                # 下載\n",
    "                driver.find_element(By.CSS_SELECTOR, \"a#downloadCSV\").click()\n",
    "                sleep(0.2)\n",
    "            # 關閉分頁繼續下個月\n",
    "            driver.close()\n",
    "            windows=driver.window_handles\n",
    "            driver.switch_to.window(windows[0])\n",
    "            sleep(1)"
   ]
  },
  {
   "cell_type": "code",
   "execution_count": null,
   "id": "19409f9c",
   "metadata": {},
   "outputs": [],
   "source": [
    "# 主程式\n",
    "if __name__==\"__main__\":\n",
    "    visit()   "
   ]
  }
 ],
 "metadata": {
  "kernelspec": {
   "display_name": "Python 3 (ipykernel)",
   "language": "python",
   "name": "python3"
  },
  "language_info": {
   "codemirror_mode": {
    "name": "ipython",
    "version": 3
   },
   "file_extension": ".py",
   "mimetype": "text/x-python",
   "name": "python",
   "nbconvert_exporter": "python",
   "pygments_lexer": "ipython3",
   "version": "3.10.5"
  }
 },
 "nbformat": 4,
 "nbformat_minor": 5
}
